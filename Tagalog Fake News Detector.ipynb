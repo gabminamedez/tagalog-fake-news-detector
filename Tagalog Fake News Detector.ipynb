{
 "cells": [
  {
   "cell_type": "markdown",
   "id": "166cf8f9-e42c-4f73-bcbc-f9fc0981c54d",
   "metadata": {},
   "source": [
    "# Tagalog Fake News Detector"
   ]
  },
  {
   "cell_type": "markdown",
   "id": "26f1a0c9-d17d-49ea-927e-38afe3bfc341",
   "metadata": {},
   "source": [
    "## Imports"
   ]
  },
  {
   "cell_type": "code",
   "execution_count": 52,
   "id": "138639dd-c988-4182-a8ab-4c18560fb802",
   "metadata": {},
   "outputs": [],
   "source": [
    "import numpy as np\n",
    "import pandas as pd\n",
    "import matplotlib.pyplot as plt\n",
    "from sklearn.utils import shuffle\n",
    "from sklearn.model_selection import train_test_split\n",
    "from sklearn.utils.class_weight import compute_class_weight\n",
    "from sklearn.metrics import confusion_matrix, classification_report\n",
    "import string\n",
    "from spacy.lang.tl.stop_words import STOP_WORDS as tl_stop_words\n",
    "from spacy.lang.en.stop_words import STOP_WORDS as en_stop_words\n",
    "import nltk\n",
    "from nltk import tokenize\n",
    "import seaborn as sns\n",
    "from transformers import AutoModel, AutoTokenizer, AdamW\n",
    "import torch\n",
    "import torch.nn as nn\n",
    "from torch.utils.data import TensorDataset, DataLoader, RandomSampler, SequentialSampler"
   ]
  },
  {
   "cell_type": "markdown",
   "id": "43a71c6b-0a8d-480c-aeb6-cd2f12902866",
   "metadata": {},
   "source": [
    "## Dataset"
   ]
  },
  {
   "cell_type": "code",
   "execution_count": 2,
   "id": "2885b8d0-a50a-4b05-834c-4405e636533b",
   "metadata": {},
   "outputs": [
    {
     "data": {
      "text/html": [
       "<div>\n",
       "<style scoped>\n",
       "    .dataframe tbody tr th:only-of-type {\n",
       "        vertical-align: middle;\n",
       "    }\n",
       "\n",
       "    .dataframe tbody tr th {\n",
       "        vertical-align: top;\n",
       "    }\n",
       "\n",
       "    .dataframe thead th {\n",
       "        text-align: right;\n",
       "    }\n",
       "</style>\n",
       "<table border=\"1\" class=\"dataframe\">\n",
       "  <thead>\n",
       "    <tr style=\"text-align: right;\">\n",
       "      <th></th>\n",
       "      <th>label</th>\n",
       "      <th>article</th>\n",
       "    </tr>\n",
       "  </thead>\n",
       "  <tbody>\n",
       "    <tr>\n",
       "      <th>0</th>\n",
       "      <td>0</td>\n",
       "      <td>Ayon sa TheWrap.com, naghain ng kaso si Krupa,...</td>\n",
       "    </tr>\n",
       "    <tr>\n",
       "      <th>1</th>\n",
       "      <td>0</td>\n",
       "      <td>Kilala rin ang singer sa pagkumpas ng kanyang ...</td>\n",
       "    </tr>\n",
       "    <tr>\n",
       "      <th>2</th>\n",
       "      <td>0</td>\n",
       "      <td>BLANTYRE, Malawi (AP) -- Bumiyahe patungong Ma...</td>\n",
       "    </tr>\n",
       "    <tr>\n",
       "      <th>3</th>\n",
       "      <td>0</td>\n",
       "      <td>Kasama sa programa ang pananalangin, bulaklak ...</td>\n",
       "    </tr>\n",
       "    <tr>\n",
       "      <th>4</th>\n",
       "      <td>0</td>\n",
       "      <td>Linisin ang Friendship Department dahil dadala...</td>\n",
       "    </tr>\n",
       "    <tr>\n",
       "      <th>...</th>\n",
       "      <td>...</td>\n",
       "      <td>...</td>\n",
       "    </tr>\n",
       "    <tr>\n",
       "      <th>3201</th>\n",
       "      <td>1</td>\n",
       "      <td>Hindi pa nai-enjoy ni Giacomo Filibeck ang Pil...</td>\n",
       "    </tr>\n",
       "    <tr>\n",
       "      <th>3202</th>\n",
       "      <td>1</td>\n",
       "      <td>Sa isang pahayag, binatikos ng Liberal Party (...</td>\n",
       "    </tr>\n",
       "    <tr>\n",
       "      <th>3203</th>\n",
       "      <td>1</td>\n",
       "      <td>Panoorin nyo yung reaction video na ito ni Mr....</td>\n",
       "    </tr>\n",
       "    <tr>\n",
       "      <th>3204</th>\n",
       "      <td>1</td>\n",
       "      <td>Para sa mga magkakapatid na laging nagtatalo l...</td>\n",
       "    </tr>\n",
       "    <tr>\n",
       "      <th>3205</th>\n",
       "      <td>1</td>\n",
       "      <td>Grabe ibang klase talaga si Vice Ganda kung ma...</td>\n",
       "    </tr>\n",
       "  </tbody>\n",
       "</table>\n",
       "<p>3206 rows × 2 columns</p>\n",
       "</div>"
      ],
      "text/plain": [
       "      label                                            article\n",
       "0         0  Ayon sa TheWrap.com, naghain ng kaso si Krupa,...\n",
       "1         0  Kilala rin ang singer sa pagkumpas ng kanyang ...\n",
       "2         0  BLANTYRE, Malawi (AP) -- Bumiyahe patungong Ma...\n",
       "3         0  Kasama sa programa ang pananalangin, bulaklak ...\n",
       "4         0  Linisin ang Friendship Department dahil dadala...\n",
       "...     ...                                                ...\n",
       "3201      1  Hindi pa nai-enjoy ni Giacomo Filibeck ang Pil...\n",
       "3202      1  Sa isang pahayag, binatikos ng Liberal Party (...\n",
       "3203      1  Panoorin nyo yung reaction video na ito ni Mr....\n",
       "3204      1  Para sa mga magkakapatid na laging nagtatalo l...\n",
       "3205      1  Grabe ibang klase talaga si Vice Ganda kung ma...\n",
       "\n",
       "[3206 rows x 2 columns]"
      ]
     },
     "execution_count": 2,
     "metadata": {},
     "output_type": "execute_result"
    }
   ],
   "source": [
    "data = pd.read_csv(\"dataset.csv\")\n",
    "data"
   ]
  },
  {
   "cell_type": "markdown",
   "id": "5876a1da-61d8-40e7-b29b-a91d0369153e",
   "metadata": {},
   "source": [
    "## Data Cleaning"
   ]
  },
  {
   "cell_type": "code",
   "execution_count": 4,
   "id": "8064a2b7-b26c-4cdc-bcc2-810f79fef75c",
   "metadata": {},
   "outputs": [],
   "source": [
    "def clean_data(raw_data):\n",
    "    # Shuffle the data to prevent bias\n",
    "    clean_data = shuffle(data)\n",
    "    clean_data = clean_data.reset_index(drop=True)\n",
    "    \n",
    "    # Convert all article text to lowercase\n",
    "    clean_data[\"article\"] = clean_data[\"article\"].apply(lambda x: x.lower())\n",
    "    \n",
    "    # Remove punctuations from article text\n",
    "    clean_data[\"article\"] = clean_data[\"article\"].apply(remove_punctuation)\n",
    "    \n",
    "    # Remove Tagalog and English stopwords\n",
    "    clean_data[\"article\"] = clean_data[\"article\"].apply(lambda x: \" \".join([word for word in x.split() if word not in (tl_stop_words)]))\n",
    "    clean_data[\"article\"] = clean_data[\"article\"].apply(lambda x: \" \".join([word for word in x.split() if word not in (en_stop_words)]))\n",
    "    \n",
    "    return clean_data\n",
    "    \n",
    "def remove_punctuation(text):\n",
    "    no_puncs = [char for char in text if char not in string.punctuation]\n",
    "    clean = \"\".join(no_puncs)\n",
    "    \n",
    "    return clean"
   ]
  },
  {
   "cell_type": "code",
   "execution_count": 5,
   "id": "0213b357-90b2-4426-a82f-fa7f42d3a2e1",
   "metadata": {},
   "outputs": [
    {
     "data": {
      "text/html": [
       "<div>\n",
       "<style scoped>\n",
       "    .dataframe tbody tr th:only-of-type {\n",
       "        vertical-align: middle;\n",
       "    }\n",
       "\n",
       "    .dataframe tbody tr th {\n",
       "        vertical-align: top;\n",
       "    }\n",
       "\n",
       "    .dataframe thead th {\n",
       "        text-align: right;\n",
       "    }\n",
       "</style>\n",
       "<table border=\"1\" class=\"dataframe\">\n",
       "  <thead>\n",
       "    <tr style=\"text-align: right;\">\n",
       "      <th></th>\n",
       "      <th>label</th>\n",
       "      <th>article</th>\n",
       "    </tr>\n",
       "  </thead>\n",
       "  <tbody>\n",
       "    <tr>\n",
       "      <th>0</th>\n",
       "      <td>0</td>\n",
       "      <td>sinisi hadi dating heneral pagkontrol houthi s...</td>\n",
       "    </tr>\n",
       "    <tr>\n",
       "      <th>1</th>\n",
       "      <td>0</td>\n",
       "      <td>tatlong ngoang maharlika lipi foundation inc k...</td>\n",
       "    </tr>\n",
       "    <tr>\n",
       "      <th>2</th>\n",
       "      <td>1</td>\n",
       "      <td>facebook post pilipino star ibinahagi nakakalu...</td>\n",
       "    </tr>\n",
       "    <tr>\n",
       "      <th>3</th>\n",
       "      <td>1</td>\n",
       "      <td>usapan teleserye abscbn probinsyano matapos al...</td>\n",
       "    </tr>\n",
       "    <tr>\n",
       "      <th>4</th>\n",
       "      <td>0</td>\n",
       "      <td>sobra akong nababahala pinagdadaanan mas ikina...</td>\n",
       "    </tr>\n",
       "    <tr>\n",
       "      <th>...</th>\n",
       "      <td>...</td>\n",
       "      <td>...</td>\n",
       "    </tr>\n",
       "    <tr>\n",
       "      <th>3201</th>\n",
       "      <td>1</td>\n",
       "      <td>itong nakaraang araw laman balita pagbalik man...</td>\n",
       "    </tr>\n",
       "    <tr>\n",
       "      <th>3202</th>\n",
       "      <td>1</td>\n",
       "      <td>napulbos duterte administration kilabot si oza...</td>\n",
       "    </tr>\n",
       "    <tr>\n",
       "      <th>3203</th>\n",
       "      <td>1</td>\n",
       "      <td>ayon kay dating pangulong noynoy aquino tila n...</td>\n",
       "    </tr>\n",
       "    <tr>\n",
       "      <th>3204</th>\n",
       "      <td>0</td>\n",
       "      <td>ipinaaaresto sultan kudarat provincial directo...</td>\n",
       "    </tr>\n",
       "    <tr>\n",
       "      <th>3205</th>\n",
       "      <td>0</td>\n",
       "      <td>magpadala mensahe greetings man makarating ban...</td>\n",
       "    </tr>\n",
       "  </tbody>\n",
       "</table>\n",
       "<p>3206 rows × 2 columns</p>\n",
       "</div>"
      ],
      "text/plain": [
       "      label                                            article\n",
       "0         0  sinisi hadi dating heneral pagkontrol houthi s...\n",
       "1         0  tatlong ngoang maharlika lipi foundation inc k...\n",
       "2         1  facebook post pilipino star ibinahagi nakakalu...\n",
       "3         1  usapan teleserye abscbn probinsyano matapos al...\n",
       "4         0  sobra akong nababahala pinagdadaanan mas ikina...\n",
       "...     ...                                                ...\n",
       "3201      1  itong nakaraang araw laman balita pagbalik man...\n",
       "3202      1  napulbos duterte administration kilabot si oza...\n",
       "3203      1  ayon kay dating pangulong noynoy aquino tila n...\n",
       "3204      0  ipinaaaresto sultan kudarat provincial directo...\n",
       "3205      0  magpadala mensahe greetings man makarating ban...\n",
       "\n",
       "[3206 rows x 2 columns]"
      ]
     },
     "execution_count": 5,
     "metadata": {},
     "output_type": "execute_result"
    }
   ],
   "source": [
    "data = clean_data(data)\n",
    "data"
   ]
  },
  {
   "cell_type": "markdown",
   "id": "6cd6dc1f-b6d3-428e-8d58-b9cb40f30e36",
   "metadata": {},
   "source": [
    "## Exploratory Data Analysis"
   ]
  },
  {
   "cell_type": "markdown",
   "id": "65fc5dff-ef74-4e66-83f2-56487d521fd2",
   "metadata": {},
   "source": [
    "Fake/real splits:"
   ]
  },
  {
   "cell_type": "code",
   "execution_count": 8,
   "id": "0a4f9754-e66e-4d02-ba6c-8911067a1c46",
   "metadata": {},
   "outputs": [
    {
     "data": {
      "text/plain": [
       "Text(0.5, 1.0, 'Data Splits Labelled Fake (0) and True (1)')"
      ]
     },
     "execution_count": 8,
     "metadata": {},
     "output_type": "execute_result"
    },
    {
     "data": {
      "image/png": "[encoded data removed]",
      "text/plain": [
       "<Figure size 432x432 with 1 Axes>"
      ]
     },
     "metadata": {
      "needs_background": "light"
     },
     "output_type": "display_data"
    }
   ],
   "source": [
    "data.groupby([\"label\"]).size().plot(kind=\"bar\", figsize=[6,6], color=\"blue\")\n",
    "plt.xlabel(\"Label\")\n",
    "plt.ylabel(\"Count\")\n",
    "plt.text(-0.06, 1608, len(data.loc[data[\"label\"] == 0]))\n",
    "plt.text(0.94, 1608, len(data.loc[data[\"label\"] == 1]))\n",
    "plt.title(\"Data Splits Labelled Fake (0) and True (1)\")"
   ]
  },
  {
   "cell_type": "markdown",
   "id": "40842729-e535-49c5-9042-be02d8026fe9",
   "metadata": {},
   "source": [
    "Most frequent words for fake and real news:"
   ]
  },
  {
   "cell_type": "code",
   "execution_count": 6,
   "id": "77bd8f29-33ea-4e56-9927-3376fd7d078e",
   "metadata": {},
   "outputs": [
    {
     "data": {
      "image/png": "[encoded data removed]",
      "text/plain": [
       "<Figure size 864x576 with 1 Axes>"
      ]
     },
     "metadata": {
      "needs_background": "light"
     },
     "output_type": "display_data"
    },
    {
     "data": {
      "image/png": "[encoded data removed]",
      "text/plain": [
       "<Figure size 864x576 with 1 Axes>"
      ]
     },
     "metadata": {
      "needs_background": "light"
     },
     "output_type": "display_data"
    }
   ],
   "source": [
    "# Code adopted from https://www.kaggle.com/rodolfoluna/fake-news-detector\n",
    "\n",
    "for i in range(2):\n",
    "    rows = data[data[\"label\"] == i]\n",
    "    all_words = \" \".join([rows for rows in rows[\"article\"]])\n",
    "    token_space = tokenize.WhitespaceTokenizer()\n",
    "    token_phrase = token_space.tokenize(all_words)\n",
    "    frequency = nltk.FreqDist(token_phrase)\n",
    "    df_frequency = pd.DataFrame({\"Word\": list(frequency.keys()), \"Frequency\": list(frequency.values())})\n",
    "    df_frequency = df_frequency.nlargest(columns=\"Frequency\", n=20)\n",
    "    plt.figure(figsize=(12, 8))\n",
    "    if i == 0:\n",
    "        ax = sns.barplot(data=df_frequency, x=\"Word\", y=\"Frequency\", color=\"blue\").set_title(\"Most Frequent Words in Fake (0) News\")\n",
    "    else:\n",
    "        ax = sns.barplot(data=df_frequency, x=\"Word\", y=\"Frequency\", color=\"blue\").set_title(\"Most Frequent Words in Real (1) News\")\n",
    "    plt.xticks(rotation=\"vertical\")\n",
    "    plt.show()"
   ]
  },
  {
   "cell_type": "markdown",
   "id": "0ce719cd-0b84-42c7-b30f-bfe4d1674913",
   "metadata": {},
   "source": [
    "## Model Architecture"
   ]
  },
  {
   "cell_type": "markdown",
   "id": "06cd6166-8b24-4b41-b855-6241912dcd95",
   "metadata": {},
   "source": [
    "Split data into train, validation, and test sets:"
   ]
  },
  {
   "cell_type": "code",
   "execution_count": 9,
   "id": "66c1a914-6884-4059-be5c-a690c347c487",
   "metadata": {},
   "outputs": [],
   "source": [
    "train_text, temp_text, train_labels, temp_labels = train_test_split(data[\"article\"], data[\"label\"],\n",
    "                                                                    random_state=2018, test_size=0.3, stratify=data[\"label\"])\n",
    "\n",
    "val_text, test_text, val_labels, test_labels = train_test_split(temp_text, temp_labels,\n",
    "                                                                random_state=2018, test_size=0.5, stratify=temp_labels)"
   ]
  },
  {
   "cell_type": "markdown",
   "id": "6a661a1c-8e63-4f67-a5b8-57eedad77ff8",
   "metadata": {},
   "source": [
    "Define pretrained BERT model and tokenizer:"
   ]
  },
  {
   "cell_type": "code",
   "execution_count": 10,
   "id": "f67e6b69-d078-45df-9a83-130665d43dfa",
   "metadata": {},
   "outputs": [
    {
     "name": "stderr",
     "output_type": "stream",
     "text": [
      "Some weights of the model checkpoint at jcblaise/bert-tagalog-base-uncased were not used when initializing BertModel: ['cls.seq_relationship.bias', 'cls.predictions.transform.LayerNorm.bias', 'cls.predictions.bias', 'cls.predictions.transform.dense.bias', 'cls.predictions.decoder.weight', 'cls.predictions.transform.dense.weight', 'cls.predictions.transform.LayerNorm.weight', 'cls.seq_relationship.weight']\n",
      "- This IS expected if you are initializing BertModel from the checkpoint of a model trained on another task or with another architecture (e.g. initializing a BertForSequenceClassification model from a BertForPreTraining model).\n",
      "- This IS NOT expected if you are initializing BertModel from the checkpoint of a model that you expect to be exactly identical (initializing a BertForSequenceClassification model from a BertForSequenceClassification model).\n"
     ]
    }
   ],
   "source": [
    "model = AutoModel.from_pretrained(\"jcblaise/bert-tagalog-base-uncased\")\n",
    "tokenizer = AutoTokenizer.from_pretrained(\"jcblaise/bert-tagalog-base-uncased\", do_lower_case=True)"
   ]
  },
  {
   "cell_type": "markdown",
   "id": "2b93eb2e-a4ec-486b-a09d-461af3a4eee7",
   "metadata": {},
   "source": [
    "Plot histogram to determine common number of words:"
   ]
  },
  {
   "cell_type": "code",
   "execution_count": 11,
   "id": "e15406cb-fdc4-486e-a6e7-2461dc3bee3a",
   "metadata": {},
   "outputs": [
    {
     "data": {
      "text/plain": [
       "Text(0, 0.5, 'Number of texts')"
      ]
     },
     "execution_count": 11,
     "metadata": {},
     "output_type": "execute_result"
    },
    {
     "data": {
      "image/png": "[encoded data removed]",
      "text/plain": [
       "<Figure size 432x288 with 1 Axes>"
      ]
     },
     "metadata": {
      "needs_background": "light"
     },
     "output_type": "display_data"
    }
   ],
   "source": [
    "seq_len = [len(i.split()) for i in train_text]\n",
    "pd.Series(seq_len).hist(bins=40, color=\"blue\")\n",
    "plt.xlabel(\"Number of Words\")\n",
    "plt.ylabel(\"Number of texts\")"
   ]
  },
  {
   "cell_type": "markdown",
   "id": "0c423106-beec-42cb-ab13-397e807189e8",
   "metadata": {},
   "source": [
    "Tokenize text of train, validation, and test sets:"
   ]
  },
  {
   "cell_type": "code",
   "execution_count": 13,
   "id": "af80ce92-d30b-4930-ba0c-6d43eaf33b32",
   "metadata": {},
   "outputs": [],
   "source": [
    "MAX_LENGTH = 200\n",
    "\n",
    "tokens_train = tokenizer.batch_encode_plus(train_text.tolist(), max_length= MAX_LENGTH, pad_to_max_length=True, truncation=True)\n",
    "tokens_val = tokenizer.batch_encode_plus(val_text.tolist(), max_length=MAX_LENGTH, pad_to_max_length=True, truncation=True)\n",
    "tokens_test = tokenizer.batch_encode_plus(test_text.tolist(), max_length=MAX_LENGTH, pad_to_max_length=True, truncation=True)"
   ]
  },
  {
   "cell_type": "markdown",
   "id": "7af867b5-68aa-441e-9477-92f35cf7d7f0",
   "metadata": {},
   "source": [
    "Convert integer sequences to tensors:"
   ]
  },
  {
   "cell_type": "code",
   "execution_count": 14,
   "id": "38308071-3619-4ab3-91ac-5cdf3ea1418e",
   "metadata": {},
   "outputs": [],
   "source": [
    "train_seq = torch.tensor(tokens_train[\"input_ids\"])\n",
    "train_mask = torch.tensor(tokens_train[\"attention_mask\"])\n",
    "train_y = torch.tensor(train_labels.tolist())\n",
    "\n",
    "val_seq = torch.tensor(tokens_val[\"input_ids\"])\n",
    "val_mask = torch.tensor(tokens_val[\"attention_mask\"])\n",
    "val_y = torch.tensor(val_labels.tolist())\n",
    "\n",
    "test_seq = torch.tensor(tokens_test[\"input_ids\"])\n",
    "test_mask = torch.tensor(tokens_test[\"attention_mask\"])\n",
    "test_y = torch.tensor(test_labels.tolist())"
   ]
  },
  {
   "cell_type": "markdown",
   "id": "d1da822e-c249-4d2c-a7e7-0dadfe9fa022",
   "metadata": {},
   "source": [
    "Initialize data loaders to pass batches of train and validation data:"
   ]
  },
  {
   "cell_type": "code",
   "execution_count": 16,
   "id": "dc83bb88-4dda-46e4-aa9e-4c4c6d098562",
   "metadata": {},
   "outputs": [],
   "source": [
    "BATCH_SIZE = 32\n",
    "\n",
    "train_data = TensorDataset(train_seq, train_mask, train_y)\n",
    "train_sampler = RandomSampler(train_data)\n",
    "train_dataloader = DataLoader(train_data, sampler=train_sampler, batch_size=BATCH_SIZE)\n",
    "\n",
    "val_data = TensorDataset(val_seq, val_mask, val_y)\n",
    "val_sampler = SequentialSampler(val_data)\n",
    "val_dataloader = DataLoader(val_data, sampler=val_sampler, batch_size=BATCH_SIZE)"
   ]
  },
  {
   "cell_type": "markdown",
   "id": "4303b84b-ae07-4cf2-a385-55e4e349d15b",
   "metadata": {},
   "source": [
    "Freeze parameters of base model and define BERT model architecture:"
   ]
  },
  {
   "cell_type": "code",
   "execution_count": 17,
   "id": "5306f999-543c-4fb2-ab59-01bf92bb7e62",
   "metadata": {},
   "outputs": [],
   "source": [
    "# Freeze parameters of base model\n",
    "for param in model.parameters():\n",
    "    param.requires_grad = False\n",
    "\n",
    "# Define BERT model architecture\n",
    "class BERT_Arch(nn.Module):\n",
    "    def __init__(self, bert):\n",
    "        super(BERT_Arch, self).__init__()\n",
    "        self.bert = bert \n",
    "        self.dropout = nn.Dropout(0.1) # Dropout layer\n",
    "        self.relu =  nn.ReLU() # Activation function (RelU)\n",
    "        self.fc1 = nn.Linear(768, 512) # Dense layer 1\n",
    "        self.fc2 = nn.Linear(512, 2) # Dense layer 2\n",
    "        self.softmax = nn.LogSoftmax(dim=1) # Activation function (softmax)\n",
    "\n",
    "    def forward(self, sent_id, mask):\n",
    "        cls_hs = self.bert(sent_id, attention_mask=mask)[\"pooler_output\"]\n",
    "        x = self.fc1(cls_hs)\n",
    "        x = self.relu(x)\n",
    "        x = self.dropout(x)\n",
    "        x = self.fc2(x)\n",
    "        x = self.softmax(x)\n",
    "\n",
    "        return x\n",
    "    \n",
    "model = BERT_Arch(model)"
   ]
  },
  {
   "cell_type": "markdown",
   "id": "5f21d8ff-6ed3-4a82-8f94-02f7710f35f5",
   "metadata": {},
   "source": [
    "## Model Training"
   ]
  },
  {
   "cell_type": "markdown",
   "id": "7cd81b5f-83b1-4bdb-91ab-2c01cf8e84de",
   "metadata": {},
   "source": [
    "Define the hyperparameters:"
   ]
  },
  {
   "cell_type": "code",
   "execution_count": 22,
   "id": "f507b5bf-f1c7-4fc9-b51d-3b70efd5e2f9",
   "metadata": {},
   "outputs": [],
   "source": [
    "# Define the learning rate and optimizer\n",
    "learning_rate = 1e-5\n",
    "optimizer = AdamW(model.parameters(), lr=learning_rate)\n",
    "\n",
    "# Define the weights\n",
    "class_weights = compute_class_weight(\"balanced\", np.unique(train_labels), train_labels)\n",
    "weights = torch.tensor(class_weights, dtype=torch.float)\n",
    "\n",
    "# Define the loss function\n",
    "cross_entropy = nn.NLLLoss(weight=weights) \n",
    "\n",
    "# Define the number of training epochs\n",
    "epochs = 10"
   ]
  },
  {
   "cell_type": "markdown",
   "id": "0a7b5cf0-5db1-4485-bbb4-83b165d3d9a8",
   "metadata": {},
   "source": [
    "Define train function:"
   ]
  },
  {
   "cell_type": "code",
   "execution_count": 30,
   "id": "f08e91e4-81d5-4ccd-ae12-68804c6e7bc1",
   "metadata": {},
   "outputs": [],
   "source": [
    "def train():\n",
    "    print(\"  Training model...\")\n",
    "    model.train()\n",
    "    \n",
    "    total_loss, total_accuracy = 0, 0\n",
    "    total_preds = []\n",
    "\n",
    "    for step, batch in enumerate(train_dataloader):\n",
    "        if step % 50 == 0 and not step == 0:\n",
    "            print(\"   Batch {:>5,} of {:>5,}.\".format(step, len(train_dataloader)))\n",
    "\n",
    "        batch = [r for r in batch]\n",
    "        sent_id, mask, labels = batch\n",
    "        model.zero_grad()\n",
    "        \n",
    "        preds = model(sent_id, mask)\n",
    "        loss = cross_entropy(preds, labels)\n",
    "        total_loss = total_loss + loss.item()\n",
    "        loss.backward()\n",
    "        torch.nn.utils.clip_grad_norm_(model.parameters(), 1.0)\n",
    "        optimizer.step()\n",
    "        preds = preds.detach().cpu().numpy()\n",
    "        total_preds.append(preds)\n",
    "\n",
    "    avg_loss = total_loss / len(train_dataloader)\n",
    "    total_preds = np.concatenate(total_preds, axis=0)\n",
    "\n",
    "    return avg_loss, total_preds"
   ]
  },
  {
   "cell_type": "markdown",
   "id": "32fecc91-801e-4930-940a-ff62c9bb318b",
   "metadata": {},
   "source": [
    "Define validate function:"
   ]
  },
  {
   "cell_type": "code",
   "execution_count": 31,
   "id": "f47c7181-d2b9-47aa-ad1f-241de5d55f22",
   "metadata": {},
   "outputs": [],
   "source": [
    "def validate():\n",
    "    print(\"  Validating model...\")\n",
    "    model.eval()\n",
    "\n",
    "    total_loss, total_accuracy = 0, 0\n",
    "    total_preds = []\n",
    "\n",
    "    for step, batch in enumerate(val_dataloader):\n",
    "        if step % 50 == 0 and not step == 0:\n",
    "            print(\"   Batch {:>5,} of {:>5,}.\".format(step, len(val_dataloader)))\n",
    "\n",
    "        batch = [t for t in batch]\n",
    "        sent_id, mask, labels = batch\n",
    "\n",
    "        with torch.no_grad():\n",
    "            preds = model(sent_id, mask)\n",
    "            loss = cross_entropy(preds,labels)\n",
    "            total_loss = total_loss + loss.item()\n",
    "            preds = preds.detach().cpu().numpy()\n",
    "            total_preds.append(preds)\n",
    "\n",
    "    avg_loss = total_loss / len(val_dataloader)\n",
    "    total_preds = np.concatenate(total_preds, axis=0)\n",
    "\n",
    "    return avg_loss, total_preds"
   ]
  },
  {
   "cell_type": "markdown",
   "id": "1d0531be-1936-4fad-ade9-d243f2023d08",
   "metadata": {},
   "source": [
    "Fine-tune the model:"
   ]
  },
  {
   "cell_type": "code",
   "execution_count": 32,
   "id": "b931b55b-5033-494d-b66b-101da29238d6",
   "metadata": {},
   "outputs": [
    {
     "name": "stdout",
     "output_type": "stream",
     "text": [
      "\n",
      " Epoch 1 / 10\n",
      "  Training model...\n",
      "   Batch    50 of    71.\n",
      "  Validating model...\n",
      "\n",
      "Training Loss: 0.684\n",
      "Validation Loss: 0.679\n",
      "\n",
      " Epoch 2 / 10\n",
      "  Training model...\n",
      "   Batch    50 of    71.\n",
      "  Validating model...\n",
      "\n",
      "Training Loss: 0.680\n",
      "Validation Loss: 0.674\n",
      "\n",
      " Epoch 3 / 10\n",
      "  Training model...\n",
      "   Batch    50 of    71.\n",
      "  Validating model...\n",
      "\n",
      "Training Loss: 0.672\n",
      "Validation Loss: 0.670\n",
      "\n",
      " Epoch 4 / 10\n",
      "  Training model...\n",
      "   Batch    50 of    71.\n",
      "  Validating model...\n",
      "\n",
      "Training Loss: 0.666\n",
      "Validation Loss: 0.673\n",
      "\n",
      " Epoch 5 / 10\n",
      "  Training model...\n",
      "   Batch    50 of    71.\n",
      "  Validating model...\n",
      "\n",
      "Training Loss: 0.664\n",
      "Validation Loss: 0.659\n",
      "\n",
      " Epoch 6 / 10\n",
      "  Training model...\n",
      "   Batch    50 of    71.\n",
      "  Validating model...\n",
      "\n",
      "Training Loss: 0.656\n",
      "Validation Loss: 0.654\n",
      "\n",
      " Epoch 7 / 10\n",
      "  Training model...\n",
      "   Batch    50 of    71.\n",
      "  Validating model...\n",
      "\n",
      "Training Loss: 0.652\n",
      "Validation Loss: 0.654\n",
      "\n",
      " Epoch 8 / 10\n",
      "  Training model...\n",
      "   Batch    50 of    71.\n",
      "  Validating model...\n",
      "\n",
      "Training Loss: 0.645\n",
      "Validation Loss: 0.646\n",
      "\n",
      " Epoch 9 / 10\n",
      "  Training model...\n",
      "   Batch    50 of    71.\n",
      "  Validating model...\n",
      "\n",
      "Training Loss: 0.641\n",
      "Validation Loss: 0.646\n",
      "\n",
      " Epoch 10 / 10\n",
      "  Training model...\n",
      "   Batch    50 of    71.\n",
      "  Validating model...\n",
      "\n",
      "Training Loss: 0.640\n",
      "Validation Loss: 0.637\n"
     ]
    }
   ],
   "source": [
    "best_valid_loss = float(\"inf\")\n",
    "train_losses = []\n",
    "val_losses = []\n",
    "\n",
    "for epoch in range(epochs):\n",
    "    print(\"\\n Epoch {:} / {:}\".format(epoch + 1, epochs))\n",
    "\n",
    "    train_loss, _ = train()\n",
    "    valid_loss, _ = validate()\n",
    "\n",
    "    if valid_loss < best_valid_loss:\n",
    "        best_valid_loss = valid_loss\n",
    "        torch.save(model.state_dict(), \"saved_weights.pt\")\n",
    "\n",
    "    train_losses.append(train_loss)\n",
    "    val_losses.append(valid_loss)\n",
    "\n",
    "    print(f\"\\n  Training Loss: {train_loss:.3f}\")\n",
    "    print(f\"  Validation Loss: {valid_loss:.3f}\")"
   ]
  },
  {
   "cell_type": "markdown",
   "id": "e200c4cc-b0ab-49df-8f5b-9e9ca8ff3ac9",
   "metadata": {},
   "source": [
    "## Model Predictions"
   ]
  },
  {
   "cell_type": "markdown",
   "id": "2f07da10-4a44-486b-98b2-325ce17a9ff1",
   "metadata": {},
   "source": [
    "Load weights of best model:"
   ]
  },
  {
   "cell_type": "code",
   "execution_count": 33,
   "id": "dc5a7536-e275-497b-bd7e-a55fbd389ce2",
   "metadata": {},
   "outputs": [
    {
     "data": {
      "text/plain": [
       "<All keys matched successfully>"
      ]
     },
     "execution_count": 33,
     "metadata": {},
     "output_type": "execute_result"
    }
   ],
   "source": [
    "path = \"saved_weights.pt\"\n",
    "model.load_state_dict(torch.load(path))"
   ]
  },
  {
   "cell_type": "markdown",
   "id": "acbbd06f-007c-4609-8670-1230a1a8b7fb",
   "metadata": {},
   "source": [
    "Get model predictions:"
   ]
  },
  {
   "cell_type": "code",
   "execution_count": 47,
   "id": "53d035b4-482d-42ce-bcec-56f94a0915ac",
   "metadata": {},
   "outputs": [],
   "source": [
    "with torch.no_grad():\n",
    "    preds = model.forward(test_seq, test_mask)\n",
    "    preds = preds.detach().cpu().numpy()"
   ]
  },
  {
   "cell_type": "markdown",
   "id": "d93624c0-c83f-4055-b839-8472abac0afc",
   "metadata": {},
   "source": [
    "Print model performance:"
   ]
  },
  {
   "cell_type": "code",
   "execution_count": 48,
   "id": "160c378a-182e-45fc-b6c6-9fa195b7ae5b",
   "metadata": {},
   "outputs": [
    {
     "data": {
      "text/plain": [
       "array([[-0.76925206, -0.6224268 ],\n",
       "       [-0.69911635, -0.6872134 ],\n",
       "       [-0.5884266 , -0.8101308 ],\n",
       "       [-0.8787162 , -0.5366833 ],\n",
       "       [-0.62148416, -0.77034485],\n",
       "       [-0.77798986, -0.61494315],\n",
       "       [-0.44398403, -1.0257586 ],\n",
       "       [-0.45165718, -1.012175  ],\n",
       "       [-0.76633537, -0.6249521 ],\n",
       "       [-0.91312635, -0.5129409 ],\n",
       "       [-0.8131772 , -0.5859928 ],\n",
       "       [-0.5325065 , -0.88462615],\n",
       "       [-0.5256769 , -0.8944193 ],\n",
       "       [-0.78239125, -0.61121917],\n",
       "       [-0.92886513, -0.5025296 ],\n",
       "       [-0.7229122 , -0.66424257],\n",
       "       [-0.6471668 , -0.74134415],\n",
       "       [-0.85659623, -0.55269825],\n",
       "       [-0.45674023, -1.0033333 ],\n",
       "       [-0.43964353, -1.0335722 ],\n",
       "       [-0.8881605 , -0.5300285 ],\n",
       "       [-0.66833884, -0.71858674],\n",
       "       [-0.82360035, -0.57776487],\n",
       "       [-0.59374815, -0.80352795],\n",
       "       [-1.0062345 , -0.45506454],\n",
       "       [-0.5705877 , -0.8328535 ],\n",
       "       [-0.53591824, -0.87979424],\n",
       "       [-0.7212323 , -0.6658292 ],\n",
       "       [-0.7586992 , -0.63162917],\n",
       "       [-0.47602957, -0.97086596],\n",
       "       [-0.5985379 , -0.79765165],\n",
       "       [-0.40197262, -1.1056341 ],\n",
       "       [-0.82860994, -0.5738645 ],\n",
       "       [-0.6733411 , -0.7133535 ],\n",
       "       [-0.45555207, -1.0053892 ],\n",
       "       [-0.69478685, -0.6915103 ],\n",
       "       [-0.7998753 , -0.5967195 ],\n",
       "       [-0.7589592 , -0.63140017],\n",
       "       [-0.5506667 , -0.85935587],\n",
       "       [-0.3231155 , -1.2869567 ],\n",
       "       [-0.8158869 , -0.583839  ],\n",
       "       [-0.55858684, -0.84867144],\n",
       "       [-0.5457193 , -0.86613196],\n",
       "       [-0.8658259 , -0.5459416 ],\n",
       "       [-0.7084487 , -0.67807627],\n",
       "       [-0.70097214, -0.6853831 ],\n",
       "       [-0.44392255, -1.0258687 ],\n",
       "       [-0.7017666 , -0.68460137],\n",
       "       [-0.63394094, -0.7560807 ],\n",
       "       [-0.8054377 , -0.5922026 ],\n",
       "       [-0.5923806 , -0.8052173 ],\n",
       "       [-0.72399074, -0.66322666],\n",
       "       [-0.7440119 , -0.64474493],\n",
       "       [-0.57716876, -0.8243631 ],\n",
       "       [-1.0191864 , -0.4476763 ],\n",
       "       [-0.45773944, -1.0016099 ],\n",
       "       [-0.79703045, -0.5990473 ],\n",
       "       [-0.8634402 , -0.5476777 ],\n",
       "       [-0.61352843, -0.7796577 ],\n",
       "       [-0.55598813, -0.8521553 ],\n",
       "       [-0.8753675 , -0.5390688 ],\n",
       "       [-0.67220193, -0.7145404 ],\n",
       "       [-0.7218669 , -0.6652292 ],\n",
       "       [-0.8308709 , -0.5721155 ],\n",
       "       [-0.69820464, -0.68811524],\n",
       "       [-0.56759816, -0.8367528 ],\n",
       "       [-0.77829003, -0.6146883 ],\n",
       "       [-0.3741821 , -1.1642766 ],\n",
       "       [-0.36207652, -1.1914814 ],\n",
       "       [-0.6923245 , -0.69397044],\n",
       "       [-0.4537185 , -1.0085745 ],\n",
       "       [-0.77559566, -0.6169816 ],\n",
       "       [-0.8893504 , -0.52919763],\n",
       "       [-0.6722027 , -0.71453977],\n",
       "       [-0.7483761 , -0.6408095 ],\n",
       "       [-0.80847204, -0.5897576 ],\n",
       "       [-0.74732345, -0.6417558 ],\n",
       "       [-0.68644273, -0.699897  ],\n",
       "       [-0.5762385 , -0.8255555 ],\n",
       "       [-0.54340917, -0.8693236 ],\n",
       "       [-0.3334416 , -1.26038   ],\n",
       "       [-0.57511944, -0.8269932 ],\n",
       "       [-0.835134  , -0.56883675],\n",
       "       [-0.82200086, -0.5790175 ],\n",
       "       [-0.6913738 , -0.69492376],\n",
       "       [-0.80698985, -0.5909501 ],\n",
       "       [-0.6937498 , -0.6925449 ],\n",
       "       [-0.7741211 , -0.61824167],\n",
       "       [-0.7830563 , -0.61065906],\n",
       "       [-0.52732426, -0.8920422 ],\n",
       "       [-0.5522923 , -0.85714674],\n",
       "       [-0.7770128 , -0.615774  ],\n",
       "       [-0.9172297 , -0.51020014],\n",
       "       [-0.9095105 , -0.51537144],\n",
       "       [-0.48447695, -0.9571631 ],\n",
       "       [-0.7189821 , -0.6679629 ],\n",
       "       [-0.65896904, -0.72853494],\n",
       "       [-0.6945921 , -0.6917044 ],\n",
       "       [-0.44438183, -1.0250474 ],\n",
       "       [-0.5938391 , -0.8034159 ],\n",
       "       [-0.83001506, -0.5727768 ],\n",
       "       [-0.9175207 , -0.5100065 ],\n",
       "       [-0.7025799 , -0.68380266],\n",
       "       [-0.62291336, -0.768689  ],\n",
       "       [-0.7500692 , -0.6392915 ],\n",
       "       [-0.73437023, -0.6535563 ],\n",
       "       [-0.72067654, -0.6663554 ],\n",
       "       [-0.71019566, -0.67638445],\n",
       "       [-0.76140606, -0.6292513 ],\n",
       "       [-0.63951373, -0.74982095],\n",
       "       [-0.79613245, -0.59978473],\n",
       "       [-0.7328771 , -0.6549356 ],\n",
       "       [-0.66850996, -0.71840674],\n",
       "       [-1.0498717 , -0.4307562 ],\n",
       "       [-0.8086109 , -0.58964604],\n",
       "       [-0.9404397 , -0.4950443 ],\n",
       "       [-0.8146137 , -0.58484966],\n",
       "       [-0.7868892 , -0.6074445 ],\n",
       "       [-0.8965014 , -0.5242395 ],\n",
       "       [-0.49113768, -0.9465691 ],\n",
       "       [-0.54340917, -0.8693236 ],\n",
       "       [-0.76138425, -0.6292705 ],\n",
       "       [-0.6210621 , -0.7708349 ],\n",
       "       [-0.859329  , -0.5506864 ],\n",
       "       [-0.7274617 , -0.6599711 ],\n",
       "       [-0.7496052 , -0.63970715],\n",
       "       [-0.7965968 , -0.59940314],\n",
       "       [-0.79953355, -0.5969985 ],\n",
       "       [-0.56400275, -0.84147835],\n",
       "       [-0.79550946, -0.6002968 ],\n",
       "       [-0.7029279 , -0.6834613 ],\n",
       "       [-0.89289784, -0.52673054],\n",
       "       [-0.75595856, -0.63404906],\n",
       "       [-0.8152723 , -0.58432657],\n",
       "       [-0.5605697 , -0.8460273 ],\n",
       "       [-0.56015986, -0.8465729 ],\n",
       "       [-0.74356604, -0.6451488 ],\n",
       "       [-0.9651636 , -0.4795222 ],\n",
       "       [-0.81268543, -0.58638465],\n",
       "       [-0.7046201 , -0.6818044 ],\n",
       "       [-0.49596304, -0.9390072 ],\n",
       "       [-0.7330334 , -0.65479106],\n",
       "       [-0.5601878 , -0.8465357 ],\n",
       "       [-0.80685216, -0.5910611 ],\n",
       "       [-0.46170083, -0.9948224 ],\n",
       "       [-0.67897755, -0.7075205 ],\n",
       "       [-0.7811862 , -0.6122357 ],\n",
       "       [-0.7492495 , -0.6400258 ],\n",
       "       [-0.4776786 , -0.96816707],\n",
       "       [-0.71285   , -0.67382514],\n",
       "       [-0.83283055, -0.5706053 ],\n",
       "       [-1.0135387 , -0.4508795 ],\n",
       "       [-0.5636069 , -0.842001  ],\n",
       "       [-0.8452209 , -0.5611763 ],\n",
       "       [-0.4326998 , -1.0462718 ],\n",
       "       [-0.9536265 , -0.48668778],\n",
       "       [-0.78873783, -0.605902  ],\n",
       "       [-0.5728517 , -0.82991815],\n",
       "       [-0.69829315, -0.6880275 ],\n",
       "       [-0.86772656, -0.54456353],\n",
       "       [-0.70420754, -0.6822078 ],\n",
       "       [-0.6871033 , -0.69922775],\n",
       "       [-0.47349417, -0.97503865],\n",
       "       [-0.83225065, -0.57105166],\n",
       "       [-0.6827293 , -0.70367485],\n",
       "       [-0.47244036, -0.97678113],\n",
       "       [-0.7500692 , -0.6392915 ],\n",
       "       [-0.47222182, -0.97714305],\n",
       "       [-0.61410046, -0.77898276],\n",
       "       [-0.6280255 , -0.762807  ],\n",
       "       [-0.52706057, -0.8924221 ],\n",
       "       [-0.54763067, -0.8635049 ],\n",
       "       [-0.8091717 , -0.5891958 ],\n",
       "       [-0.89052016, -0.52838254],\n",
       "       [-0.5880803 , -0.8105632 ],\n",
       "       [-0.4779933 , -0.9676535 ],\n",
       "       [-0.786213  , -0.60800993],\n",
       "       [-0.74198115, -0.64658725],\n",
       "       [-0.82458436, -0.57699597],\n",
       "       [-0.6211604 , -0.77072084],\n",
       "       [-0.94466263, -0.4923486 ],\n",
       "       [-0.47754368, -0.9683876 ],\n",
       "       [-0.67211676, -0.7146294 ],\n",
       "       [-0.831571  , -0.5715754 ],\n",
       "       [-0.7330792 , -0.6547487 ],\n",
       "       [-0.57654905, -0.8251571 ],\n",
       "       [-0.44306627, -1.027403  ],\n",
       "       [-0.63257354, -0.7576279 ],\n",
       "       [-0.81142724, -0.5873892 ],\n",
       "       [-0.72075784, -0.6662784 ],\n",
       "       [-0.5812337 , -0.81918234],\n",
       "       [-0.7500692 , -0.6392915 ],\n",
       "       [-0.6678696 , -0.71908027],\n",
       "       [-0.47559923, -0.97157234],\n",
       "       [-0.7195059 , -0.6674654 ],\n",
       "       [-0.65350085, -0.73443043],\n",
       "       [-0.47481754, -0.97285724],\n",
       "       [-0.6621974 , -0.7250856 ],\n",
       "       [-0.6467479 , -0.74180454],\n",
       "       [-0.464445  , -0.99016285],\n",
       "       [-0.6918628 , -0.6944331 ],\n",
       "       [-0.789662  , -0.6051331 ],\n",
       "       [-0.95510274, -0.48576337],\n",
       "       [-0.51789516, -0.90577924],\n",
       "       [-0.72837186, -0.6591212 ],\n",
       "       [-0.62728584, -0.7636539 ],\n",
       "       [-0.71341264, -0.6732843 ],\n",
       "       [-0.58771616, -0.8110182 ],\n",
       "       [-0.90021074, -0.5216911 ],\n",
       "       [-0.8520152 , -0.5560923 ],\n",
       "       [-0.6631474 , -0.7240748 ],\n",
       "       [-0.86678016, -0.54524916],\n",
       "       [-0.6803176 , -0.7061435 ],\n",
       "       [-0.7541767 , -0.63562906],\n",
       "       [-0.62990505, -0.7606604 ],\n",
       "       [-0.45689893, -1.0030594 ],\n",
       "       [-0.7895088 , -0.60526043],\n",
       "       [-1.025503  , -0.44412696],\n",
       "       [-0.659109  , -0.728385  ],\n",
       "       [-0.7500692 , -0.6392915 ],\n",
       "       [-0.634761  , -0.75515497],\n",
       "       [-0.79387677, -0.6016421 ],\n",
       "       [-0.966527  , -0.4786843 ],\n",
       "       [-0.69678587, -0.6895218 ],\n",
       "       [-0.90752304, -0.51671374],\n",
       "       [-0.66848576, -0.7184321 ],\n",
       "       [-0.5645103 , -0.84080875],\n",
       "       [-0.71659553, -0.670236  ],\n",
       "       [-0.7149333 , -0.67182547],\n",
       "       [-0.7500692 , -0.6392915 ],\n",
       "       [-1.0667053 , -0.42180857],\n",
       "       [-0.90127504, -0.5209628 ],\n",
       "       [-0.5050001 , -0.92509305],\n",
       "       [-0.39844638, -1.1127994 ],\n",
       "       [-0.6119788 , -0.78149056],\n",
       "       [-1.0301358 , -0.44154605],\n",
       "       [-0.71049607, -0.6760942 ],\n",
       "       [-0.811665  , -0.5871992 ],\n",
       "       [-0.83926654, -0.5656819 ],\n",
       "       [-0.7500692 , -0.6392915 ],\n",
       "       [-0.5272912 , -0.8920898 ],\n",
       "       [-0.71911836, -0.66783345],\n",
       "       [-0.5596249 , -0.84728575],\n",
       "       [-0.5876084 , -0.81115305],\n",
       "       [-0.8092737 , -0.5891139 ],\n",
       "       [-0.33657262, -1.2525122 ],\n",
       "       [-0.59443545, -0.802681  ],\n",
       "       [-0.897714  , -0.52340454],\n",
       "       [-0.98224753, -0.4691537 ],\n",
       "       [-0.45013246, -1.0148513 ],\n",
       "       [-0.65645254, -0.73123986],\n",
       "       [-0.846926  , -0.55989486],\n",
       "       [-0.71748304, -0.6693894 ],\n",
       "       [-0.80227745, -0.59476316],\n",
       "       [-0.64818054, -0.74023145],\n",
       "       [-0.7308582 , -0.6568068 ],\n",
       "       [-0.9538692 , -0.48653558],\n",
       "       [-0.72600543, -0.6613342 ],\n",
       "       [-0.47527227, -0.97210944],\n",
       "       [-0.80588543, -0.5918409 ],\n",
       "       [-0.7110347 , -0.6755741 ],\n",
       "       [-0.7571044 , -0.6330358 ],\n",
       "       [-0.5286855 , -0.89008504],\n",
       "       [-0.6674273 , -0.71954614],\n",
       "       [-0.91376805, -0.51251096],\n",
       "       [-0.82221913, -0.57884634],\n",
       "       [-0.63985825, -0.7494364 ],\n",
       "       [-0.6373349 , -0.75225973],\n",
       "       [-0.7500692 , -0.6392915 ],\n",
       "       [-0.77236545, -0.6197464 ],\n",
       "       [-0.8373616 , -0.56713337],\n",
       "       [-0.57225835, -0.83068585],\n",
       "       [-0.53901446, -0.8754436 ],\n",
       "       [-0.8784869 , -0.5368463 ],\n",
       "       [-0.44413894, -1.0254817 ],\n",
       "       [-0.8468776 , -0.55993104],\n",
       "       [-0.7129531 , -0.6737259 ],\n",
       "       [-0.40722373, -1.0951045 ],\n",
       "       [-0.61442876, -0.77859575],\n",
       "       [-0.68376106, -0.7026222 ],\n",
       "       [-0.7761835 , -0.61648047],\n",
       "       [-0.89046293, -0.5284223 ],\n",
       "       [-0.77863944, -0.6143917 ],\n",
       "       [-0.65844303, -0.7290993 ],\n",
       "       [-0.86133397, -0.54921645],\n",
       "       [-0.6155593 , -0.77726525],\n",
       "       [-0.7656977 , -0.62550604],\n",
       "       [-0.47092813, -0.97929037],\n",
       "       [-0.81401396, -0.5853265 ],\n",
       "       [-0.86282027, -0.5481301 ],\n",
       "       [-0.8662488 , -0.54563457],\n",
       "       [-0.74925876, -0.64001757],\n",
       "       [-0.6629945 , -0.7242374 ],\n",
       "       [-0.8657172 , -0.54602057],\n",
       "       [-0.7227722 , -0.6643747 ],\n",
       "       [-0.9385545 , -0.49625382],\n",
       "       [-0.7500692 , -0.6392915 ],\n",
       "       [-0.9083606 , -0.51614755],\n",
       "       [-0.67704636, -0.7095116 ],\n",
       "       [-0.6005848 , -0.79515946],\n",
       "       [-0.54489136, -0.86727387],\n",
       "       [-0.74705285, -0.6419993 ],\n",
       "       [-0.62720066, -0.7637516 ],\n",
       "       [-0.6053978 , -0.7893437 ],\n",
       "       [-0.66296786, -0.7242657 ],\n",
       "       [-0.912416  , -0.5134171 ],\n",
       "       [-0.428556  , -1.053971  ],\n",
       "       [-0.76905626, -0.62259597],\n",
       "       [-0.40306956, -1.1034206 ],\n",
       "       [-0.67994523, -0.7065257 ],\n",
       "       [-0.6771888 , -0.7093643 ],\n",
       "       [-0.57344896, -0.8291463 ],\n",
       "       [-0.62178075, -0.77000093],\n",
       "       [-0.66220284, -0.7250799 ],\n",
       "       [-0.7580143 , -0.6322327 ],\n",
       "       [-0.8626868 , -0.54822755],\n",
       "       [-0.51709694, -0.90695685],\n",
       "       [-0.77260816, -0.61953807],\n",
       "       [-0.7147367 , -0.672014  ],\n",
       "       [-0.8247734 , -0.57684845],\n",
       "       [-0.7235136 , -0.66367584],\n",
       "       [-0.6108371 , -0.7828448 ],\n",
       "       [-0.7218706 , -0.66522586],\n",
       "       [-0.73370737, -0.6541683 ],\n",
       "       [-0.7165132 , -0.67031467],\n",
       "       [-0.7815515 , -0.61192733],\n",
       "       [-0.49628294, -0.9385092 ],\n",
       "       [-0.47378615, -0.9745567 ],\n",
       "       [-0.86527586, -0.5463413 ],\n",
       "       [-0.60076016, -0.7949465 ],\n",
       "       [-0.86481166, -0.54667884],\n",
       "       [-0.7983353 , -0.59797806],\n",
       "       [-0.73082596, -0.65683675],\n",
       "       [-0.9655389 , -0.47929135],\n",
       "       [-0.795333  , -0.6004419 ],\n",
       "       [-0.8619821 , -0.54874235],\n",
       "       [-0.7950332 , -0.60068876],\n",
       "       [-0.80085826, -0.59591794],\n",
       "       [-0.8634698 , -0.5476562 ],\n",
       "       [-0.8989002 , -0.5225896 ],\n",
       "       [-0.73739135, -0.65077794],\n",
       "       [-0.9441602 , -0.49266836],\n",
       "       [-0.78574914, -0.6083982 ],\n",
       "       [-0.83011913, -0.5726964 ],\n",
       "       [-0.3864683 , -1.137724  ],\n",
       "       [-0.8490296 , -0.5583189 ],\n",
       "       [-0.8819176 , -0.53441554],\n",
       "       [-0.5554845 , -0.85283303],\n",
       "       [-0.58785295, -0.81084746],\n",
       "       [-0.6095844 , -0.78433484],\n",
       "       [-0.80809635, -0.59005964],\n",
       "       [-0.67121166, -0.7155746 ],\n",
       "       [-0.43093866, -1.0495329 ],\n",
       "       [-0.7583248 , -0.631959  ],\n",
       "       [-0.8186822 , -0.581628  ],\n",
       "       [-0.45185   , -1.0118375 ],\n",
       "       [-0.6132144 , -0.7800287 ],\n",
       "       [-0.65607935, -0.7316421 ],\n",
       "       [-0.63959634, -0.7497288 ],\n",
       "       [-0.7322623 , -0.6555046 ],\n",
       "       [-0.61484444, -0.7781061 ],\n",
       "       [-0.59243935, -0.8051447 ],\n",
       "       [-0.79272914, -0.60258985],\n",
       "       [-0.7102108 , -0.6763699 ],\n",
       "       [-0.8832352 , -0.5334858 ],\n",
       "       [-0.6733235 , -0.71337175],\n",
       "       [-0.47349417, -0.97503865],\n",
       "       [-0.7378374 , -0.65036917],\n",
       "       [-0.64460963, -0.74416125],\n",
       "       [-0.871981  , -0.5414952 ],\n",
       "       [-0.60350895, -0.7916187 ],\n",
       "       [-0.46922237, -0.98213273],\n",
       "       [-0.64011997, -0.74914455],\n",
       "       [-0.5523333 , -0.8570911 ],\n",
       "       [-0.70162207, -0.6847436 ],\n",
       "       [-0.7523279 , -0.63727397],\n",
       "       [-0.62749875, -0.7634101 ],\n",
       "       [-0.46223643, -0.9939102 ],\n",
       "       [-0.40890387, -1.0917702 ],\n",
       "       [-0.7041614 , -0.68225294],\n",
       "       [-0.30798107, -1.3277586 ],\n",
       "       [-0.55208653, -0.8574259 ],\n",
       "       [-0.5973337 , -0.7991231 ],\n",
       "       [-0.9203299 , -0.5081419 ],\n",
       "       [-0.96580684, -0.47912663],\n",
       "       [-0.83528686, -0.5687197 ],\n",
       "       [-0.7533132 , -0.6363966 ],\n",
       "       [-0.7946171 , -0.6010315 ],\n",
       "       [-0.7739177 , -0.61841583],\n",
       "       [-0.65036684, -0.73783976],\n",
       "       [-0.69361174, -0.6926828 ],\n",
       "       [-0.8818822 , -0.53444064],\n",
       "       [-0.3955885 , -1.1186631 ],\n",
       "       [-0.96829134, -0.47760254],\n",
       "       [-0.4390927 , -1.0345703 ],\n",
       "       [-0.6111402 , -0.78248495],\n",
       "       [-0.84426236, -0.56189847],\n",
       "       [-0.34595373, -1.2294453 ],\n",
       "       [-0.560274  , -0.8464209 ],\n",
       "       [-0.7066667 , -0.679808  ],\n",
       "       [-0.30981997, -1.3226776 ],\n",
       "       [-0.7693496 , -0.62234277],\n",
       "       [-0.5110837 , -0.9159038 ],\n",
       "       [-0.59356374, -0.8037555 ],\n",
       "       [-0.6863826 , -0.69995785],\n",
       "       [-0.730691  , -0.65696216],\n",
       "       [-0.6463344 , -0.7422594 ],\n",
       "       [-0.5010177 , -0.93118536],\n",
       "       [-0.7960806 , -0.59982723],\n",
       "       [-0.51613957, -0.9083725 ],\n",
       "       [-0.39920655, -1.1112483 ],\n",
       "       [-0.66371757, -0.72346926],\n",
       "       [-0.71648663, -0.6703401 ],\n",
       "       [-0.7990372 , -0.597404  ],\n",
       "       [-0.9279544 , -0.50312483],\n",
       "       [-0.3945742 , -1.1207566 ],\n",
       "       [-0.58994704, -0.80823624],\n",
       "       [-0.70176077, -0.68460715],\n",
       "       [-0.97808754, -0.4716522 ],\n",
       "       [-0.7500692 , -0.6392915 ],\n",
       "       [-0.6939781 , -0.692317  ],\n",
       "       [-0.51442146, -0.9109212 ],\n",
       "       [-0.67749935, -0.70904386],\n",
       "       [-0.78310657, -0.61061674],\n",
       "       [-0.7976099 , -0.5985721 ],\n",
       "       [-0.50455076, -0.92577755],\n",
       "       [-0.54975665, -0.86059654],\n",
       "       [-0.50431216, -0.9261412 ],\n",
       "       [-0.8550211 , -0.5538622 ],\n",
       "       [-0.7500692 , -0.6392915 ],\n",
       "       [-0.9609077 , -0.48214987],\n",
       "       [-0.88211775, -0.5342741 ],\n",
       "       [-0.77177966, -0.6202495 ],\n",
       "       [-0.7421915 , -0.6463962 ],\n",
       "       [-0.69729054, -0.6890209 ],\n",
       "       [-0.6451876 , -0.7435232 ],\n",
       "       [-0.9422585 , -0.493881  ],\n",
       "       [-0.59274364, -0.8047683 ],\n",
       "       [-0.7156158 , -0.6711724 ],\n",
       "       [-0.3376524 , -1.2498186 ],\n",
       "       [-0.91622686, -0.5108683 ],\n",
       "       [-0.79871416, -0.59766805],\n",
       "       [-0.45467097, -1.006918  ],\n",
       "       [-0.7666367 , -0.62469053],\n",
       "       [-0.78416055, -0.6097306 ],\n",
       "       [-0.6812751 , -0.70516187],\n",
       "       [-0.7724125 , -0.6197061 ],\n",
       "       [-0.7652425 , -0.6259018 ],\n",
       "       [-0.5452436 , -0.8667878 ],\n",
       "       [-0.82910365, -0.5734821 ],\n",
       "       [-0.7500692 , -0.6392915 ],\n",
       "       [-0.7529444 , -0.6367248 ],\n",
       "       [-0.98519707, -0.467392  ],\n",
       "       [-0.60882694, -0.78523743],\n",
       "       [-0.59542185, -0.80146754],\n",
       "       [-0.81234336, -0.58665746],\n",
       "       [-0.44059414, -1.0318527 ],\n",
       "       [-0.3612473 , -1.1933846 ],\n",
       "       [-0.8460653 , -0.56054115],\n",
       "       [-0.857299  , -0.55218   ],\n",
       "       [-0.6032084 , -0.79198164],\n",
       "       [-0.74900776, -0.6402426 ],\n",
       "       [-0.48628682, -0.9542663 ],\n",
       "       [-0.5266808 , -0.8929696 ],\n",
       "       [-0.5573837 , -0.8502816 ],\n",
       "       [-0.8665843 , -0.5453912 ],\n",
       "       [-0.5462919 , -0.86534363],\n",
       "       [-0.7887275 , -0.6059106 ],\n",
       "       [-0.6744144 , -0.71223766],\n",
       "       [-0.70579016, -0.68066204],\n",
       "       [-0.40412572, -1.1012965 ],\n",
       "       [-0.44382513, -1.0260429 ],\n",
       "       [-0.5812054 , -0.8192182 ],\n",
       "       [-0.7373713 , -0.6507963 ],\n",
       "       [-0.59871197, -0.7974394 ],\n",
       "       [-0.83539855, -0.5686341 ],\n",
       "       [-0.86310226, -0.54792434],\n",
       "       [-0.45907816, -0.9993079 ],\n",
       "       [-0.58187777, -0.8183657 ],\n",
       "       [-0.63755614, -0.7520115 ],\n",
       "       [-0.704455  , -0.68196577]], dtype=float32)"
      ]
     },
     "execution_count": 48,
     "metadata": {},
     "output_type": "execute_result"
    }
   ],
   "source": [
    "preds"
   ]
  },
  {
   "cell_type": "code",
   "execution_count": 49,
   "id": "e8f46372-4cdb-4c97-a5fe-a0e7a90fa842",
   "metadata": {},
   "outputs": [
    {
     "name": "stdout",
     "output_type": "stream",
     "text": [
      "              precision    recall  f1-score   support\n",
      "\n",
      "           0       0.74      0.66      0.70       241\n",
      "           1       0.69      0.76      0.72       240\n",
      "\n",
      "    accuracy                           0.71       481\n",
      "   macro avg       0.71      0.71      0.71       481\n",
      "weighted avg       0.71      0.71      0.71       481\n",
      "\n"
     ]
    }
   ],
   "source": [
    "preds = np.argmax(preds, axis=1)\n",
    "print(classification_report(test_y, preds))"
   ]
  },
  {
   "cell_type": "markdown",
   "id": "9b720fe7-ae93-4837-9c06-98b7419bb18a",
   "metadata": {},
   "source": [
    "Plot the confusion matrix:"
   ]
  },
  {
   "cell_type": "code",
   "execution_count": 53,
   "id": "af11eddd-9443-4dba-919e-19e748266978",
   "metadata": {},
   "outputs": [
    {
     "data": {
      "text/plain": [
       "array([[159,  57],\n",
       "       [ 82, 183]])"
      ]
     },
     "execution_count": 53,
     "metadata": {},
     "output_type": "execute_result"
    }
   ],
   "source": [
    "confusion_matrix(preds, test_y)"
   ]
  }
 ],
 "metadata": {
  "kernelspec": {
   "display_name": "Python 3",
   "language": "python",
   "name": "python3"
  },
  "language_info": {
   "codemirror_mode": {
    "name": "ipython",
    "version": 3
   },
   "file_extension": ".py",
   "mimetype": "text/x-python",
   "name": "python",
   "nbconvert_exporter": "python",
   "pygments_lexer": "ipython3",
   "version": "3.8.8"
  }
 },
 "nbformat": 4,
 "nbformat_minor": 5
}
