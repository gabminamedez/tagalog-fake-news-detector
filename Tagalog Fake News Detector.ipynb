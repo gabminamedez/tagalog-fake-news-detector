{
 "cells": [
  {
   "cell_type": "markdown",
   "id": "166cf8f9-e42c-4f73-bcbc-f9fc0981c54d",
   "metadata": {},
   "source": [
    "# Tagalog Fake News Detector"
   ]
  }
 ],
 "metadata": {
  "kernelspec": {
   "display_name": "Python 3",
   "language": "python",
   "name": "python3"
  },
  "language_info": {
   "codemirror_mode": {
    "name": "ipython",
    "version": 3
   },
   "file_extension": ".py",
   "mimetype": "text/x-python",
   "name": "python",
   "nbconvert_exporter": "python",
   "pygments_lexer": "ipython3",
   "version": "3.8.8"
  }
 },
 "nbformat": 4,
 "nbformat_minor": 5
}
